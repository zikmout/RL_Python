{
 "cells": [
  {
   "cell_type": "code",
   "execution_count": 1,
   "id": "8f2e1389",
   "metadata": {},
   "outputs": [
    {
     "name": "stdout",
     "output_type": "stream",
     "text": [
      "torch.Size([3]) tensor([ 4,  2, 10]) tensor([1, 1, 1, 1, 0, 0, 1, 1, 1, 1, 1, 1, 1, 1, 1, 1], dtype=torch.int32)\n",
      "tensor([ 1,  2,  3,  4,  0,  0,  1,  2,  3,  4,  5,  6,  7,  8,  9, 10],\n",
      "       dtype=torch.int32) tensor([ 4,  3,  2,  1,  0,  0, 10,  9,  8,  7,  6,  5,  4,  3,  2,  1],\n",
      "       dtype=torch.int32)\n"
     ]
    }
   ],
   "source": [
    "import torch\n",
    "\n",
    "\n",
    "NB_AMO=2\n",
    "CALENDAR_UNITY_HOURS=0.5 # half hour / need to be hour fraction\n",
    "CALENDAR_DURATION_DAYS=6 # number of days planned\n",
    "CALENDAR_DURATION_HOURS=30*24 # \n",
    "CLOSE_NIGHT_AT=18\n",
    "OPEN_DAY_AT=10\n",
    "CLOSE_LUNCH_AT=13\n",
    "CLOSE_LUNCH_AT=int((CLOSE_LUNCH_AT-OPEN_DAY_AT)/CALENDAR_UNITY_HOURS)\n",
    "OPEN_LUNCH_AT=12\n",
    "OPEN_LUNCH_AT=int((OPEN_LUNCH_AT-OPEN_DAY_AT)/CALENDAR_UNITY_HOURS)\n",
    "OPEN_HOURS = int((CLOSE_NIGHT_AT-OPEN_DAY_AT)/CALENDAR_UNITY_HOURS)\n",
    "# print(CLOSE_LUNCH_AT,OPEN_LUNCH_AT,OPEN_HOURS)\n",
    "calendar_model = torch.ones(CALENDAR_DURATION_DAYS,int(OPEN_HOURS), NB_AMO).int() # DAYS (D) x OPEN HOURS (OH) x NB AMO (NA)\n",
    "calendar = torch.ones(OPEN_HOURS).int() # D \n",
    "calendar_mask = torch.ones(OPEN_HOURS).bool() # D \n",
    "calendar_mask[OPEN_LUNCH_AT:CLOSE_LUNCH_AT] = 0 # D \n",
    "calendar_mask_model = calendar.unsqueeze(1).expand(calendar_model.size()) # D x OH x NA\n",
    "# print(calendar.size(), calendar_mask.size())\n",
    "# print(calendar[0,:,1], calendar_mask[2,:,1])\n",
    "\n",
    "masked_cal = calendar & calendar_mask # D \n",
    "# masked_cal[2,:,1]\n",
    "\n",
    "count=torch.unique_consecutive(masked_cal, return_counts=True, dim=0) # return value and number of consecutives values (2,1,1,2,2,2) -> ((2,1),(1,2),(2,3))\n",
    "print(count[0].size(), count[1], masked_cal)\n",
    "fwd_cal = torch.ones(OPEN_HOURS).int() # to be filled with : number of units available until next reserved per slot\n",
    "bwd_cal = torch.ones(OPEN_HOURS).int() # to be filled with : number of units available since last reserved per slot\n",
    "last_zero=0\n",
    "for i in range(calendar.size(0)): # loop days\n",
    "    if masked_cal[i]!=0:\n",
    "        val = masked_cal[last_zero:i+1].sum() # count number of units available since last reserved met\n",
    "#         print(masked_cal[last_zero:i+1], val)\n",
    "        bwd_cal[i] = val\n",
    "    else:\n",
    "        last_zero = i\n",
    "#         print(last_zero)\n",
    "        \n",
    "        bwd_cal[i]=0\n",
    "        \n",
    "t_masked_cal = torch.flip(masked_cal,[0])\n",
    "last_zero=0\n",
    "for i in range(calendar.size(0)):\n",
    "    if t_masked_cal[i]!=0:\n",
    "        val = t_masked_cal[last_zero:i+1].sum() # count number of units available since last reserved met (on reversed caleendar)\n",
    "#         print(t_masked_cal[last_zero:i+1], val)\n",
    "        fwd_cal[i] = val\n",
    "    else:\n",
    "        last_zero = i\n",
    "#         print(last_zero)\n",
    "        fwd_cal[i]=0\n",
    "        \n",
    "fwd_cal = torch.flip(fwd_cal,[0])\n",
    "print(bwd_cal,fwd_cal)\n",
    "# fwd_cal = \n",
    "# masked_cal="
   ]
  },
  {
   "cell_type": "code",
   "execution_count": 2,
   "id": "8a7892fe",
   "metadata": {},
   "outputs": [
    {
     "name": "stdout",
     "output_type": "stream",
     "text": [
      "tensor([ 1,  2,  3,  4,  0,  0,  1,  2,  3,  4,  5,  6,  7,  8,  9, 10],\n",
      "       dtype=torch.int32) tensor([ 4,  3,  2,  1,  0,  0, 10,  9,  8,  7,  6,  5,  4,  3,  2,  1],\n",
      "       dtype=torch.int32)\n",
      "torch.Size([6, 16, 2]) torch.Size([6, 16, 2]) torch.Size([6, 16, 2])\n"
     ]
    }
   ],
   "source": [
    "bwd_cal = bwd_cal.unsqueeze(1).expand(calendar_model.size()) # D x OH x NA\n",
    "fwd_cal = fwd_cal.unsqueeze(1).expand(calendar_model.size()) # D x OH x NA\n",
    "masked_cal = masked_cal.unsqueeze(1).expand(calendar_model.size()) # D x OH x NA\n",
    "\n",
    "print(bwd_cal[2,:,1],fwd_cal[2,:,1])\n",
    "print(bwd_cal.size(),fwd_cal.size(), masked_cal.size())"
   ]
  },
  {
   "cell_type": "code",
   "execution_count": 3,
   "id": "f2f7a852",
   "metadata": {},
   "outputs": [],
   "source": [
    "CUSTOMER_DURATIONS_NEED = [(0.5,20),(1,10),(2,10),(3,12),(4,8)]"
   ]
  },
  {
   "cell_type": "code",
   "execution_count": 4,
   "id": "a56abd42",
   "metadata": {},
   "outputs": [],
   "source": [
    "def get_available(duration, strict = False, equal = False):\n",
    "#     print(duration, (fwd_cal>= duration).sum().item())\n",
    "    if equal:\n",
    "        return (fwd_cal == duration),(fwd_cal == duration).sum().item()\n",
    "    if strict:\n",
    "        return (fwd_cal > duration),(fwd_cal > duration).sum().item()\n",
    "    return (fwd_cal >= duration),(fwd_cal >= duration).sum().item()"
   ]
  },
  {
   "cell_type": "code",
   "execution_count": 5,
   "id": "e4f3905d",
   "metadata": {},
   "outputs": [],
   "source": [
    "get_available(2)[1]\n",
    "CUSTOMER_DURATION = [t[0]*2 for t in CUSTOMER_DURATIONS_NEED]\n",
    "CUSTOMER_AVAILABLE = [get_available(t)[1] for t in CUSTOMER_DURATION]\n",
    "CUSTOMER_NEED = [t[1] for t in CUSTOMER_DURATIONS_NEED]\n",
    "NEED_AVAIL_RATIO = [round((a)/(n+0.0000001),2) for n,a in zip(CUSTOMER_NEED, CUSTOMER_AVAILABLE) ]\n",
    "NEED_AVAIL_MATCH = [get_available(t, equal = True)[1] for t in CUSTOMER_DURATION]\n",
    "NEED_AVAIL_MATCH_PC = [m/a*100 for m,a in zip (NEED_AVAIL_MATCH, CUSTOMER_AVAILABLE)]"
   ]
  },
  {
   "cell_type": "code",
   "execution_count": 6,
   "id": "14ccd09e",
   "metadata": {},
   "outputs": [
    {
     "name": "stdout",
     "output_type": "stream",
     "text": [
      "[168, 144, 96, 60, 36]\n",
      "[20, 10, 10, 12, 8]\n",
      "[8.4, 14.4, 9.6, 5.0, 4.5]\n",
      "[20.0, 20, 40, 72, 64] 216.0 168\n"
     ]
    }
   ],
   "source": [
    "print(CUSTOMER_AVAILABLE)\n",
    "print(CUSTOMER_NEED)\n",
    "print(NEED_AVAIL_RATIO)\n",
    "ALL_NEED = [t[0]*t[1]*2 for t in CUSTOMER_DURATIONS_NEED]\n",
    "print(ALL_NEED, sum(ALL_NEED), CUSTOMER_AVAILABLE[0])"
   ]
  },
  {
   "cell_type": "code",
   "execution_count": 7,
   "id": "d8032d96",
   "metadata": {},
   "outputs": [
    {
     "name": "stdout",
     "output_type": "stream",
     "text": [
      "[58.33, 100.0, 66.67, 34.72, 31.25]\n"
     ]
    }
   ],
   "source": [
    "print([round(t*100/max(NEED_AVAIL_RATIO),2) for t in NEED_AVAIL_RATIO])"
   ]
  },
  {
   "cell_type": "code",
   "execution_count": 8,
   "id": "827e6c5f",
   "metadata": {},
   "outputs": [],
   "source": [
    "count=torch.unique_consecutive(masked_cal, return_counts=True, dim=0)\n",
    "# print(count[0].size(), count[1], masked_cal)\n",
    "def get_fwd_bwd(ref):\n",
    "    fwd_cal = torch.empty(OPEN_HOURS).int()\n",
    "    bwd_cal = torch.empty(OPEN_HOURS).int()\n",
    "    last_zero=0\n",
    "    for i in range(ref.size(0)):\n",
    "        if ref[i]!=0:\n",
    "            val = ref[last_zero:i+1].sum()\n",
    "            bwd_cal[i] = val\n",
    "        else:\n",
    "            last_zero = i\n",
    "            bwd_cal[i]=0\n",
    "\n",
    "    t_masked_cal = torch.flip(ref,[0])\n",
    "    last_zero=0\n",
    "    for i in range(ref.size(0)):\n",
    "        if t_masked_cal[i]!=0:\n",
    "            val = t_masked_cal[last_zero:i+1].sum()\n",
    "            fwd_cal[i] = val\n",
    "        else:\n",
    "            last_zero = i\n",
    "            fwd_cal[i]=0\n",
    "\n",
    "    fwd_cal = torch.flip(fwd_cal,[0])\n",
    "    print(fwd_cal,bwd_cal)\n",
    "    return fwd_cal,bwd_cal"
   ]
  },
  {
   "cell_type": "code",
   "execution_count": 9,
   "id": "35104641",
   "metadata": {},
   "outputs": [],
   "source": [
    "def update_calendar_day(day, hour, duration, amo, calendar_model, bwd_cal, fwd_cal):\n",
    "    print(day,hour, duration)\n",
    "    START_AT=int((hour-OPEN_DAY_AT)/CALENDAR_UNITY_HOURS)\n",
    "    END_AT=START_AT+duration*2\n",
    "    target = torch.ones(calendar_model.size(1))\n",
    "    target[START_AT:END_AT]=0\n",
    "    target= calendar_model[day,:,amo] & target.bool()\n",
    "    print(target)\n",
    "    print(calendar_model[day,:,amo])\n",
    "    calendar_model[day,:,amo]=target\n",
    "    print(calendar_model[day,:,amo])\n",
    "    fwd_cal_update, bwd_cal_update = get_fwd_bwd(target)\n",
    "    fwd_cal[day,:,amo]=fwd_cal_update\n",
    "    bwd_cal[day,:,amo]=bwd_cal_update\n",
    "    return calendar_model, fwd_cal, bwd_cal\n",
    "    \n",
    "    \n",
    "    \n",
    "    "
   ]
  },
  {
   "cell_type": "code",
   "execution_count": 10,
   "id": "23a57d63",
   "metadata": {},
   "outputs": [
    {
     "name": "stdout",
     "output_type": "stream",
     "text": [
      "3 10 2\n",
      "tensor([0, 0, 0, 0, 0, 0, 1, 1, 1, 1, 1, 1, 1, 1, 1, 1], dtype=torch.int32)\n",
      "tensor([1, 1, 1, 1, 0, 0, 1, 1, 1, 1, 1, 1, 1, 1, 1, 1], dtype=torch.int32)\n",
      "tensor([0, 0, 0, 0, 0, 0, 1, 1, 1, 1, 1, 1, 1, 1, 1, 1], dtype=torch.int32)\n",
      "tensor([ 0,  0,  0,  0,  0,  0, 10,  9,  8,  7,  6,  5,  4,  3,  2,  1],\n",
      "       dtype=torch.int32) tensor([ 0,  0,  0,  0,  0,  0,  1,  2,  3,  4,  5,  6,  7,  8,  9, 10],\n",
      "       dtype=torch.int32)\n"
     ]
    }
   ],
   "source": [
    "day=3\n",
    "hour=10\n",
    "duration=2\n",
    "amo=1\n",
    "calendar_model, fwd_cal, bwd_cal = update_calendar_day(day, hour, duration, amo, masked_cal, bwd_cal, fwd_cal)"
   ]
  },
  {
   "cell_type": "code",
   "execution_count": 11,
   "id": "07578a12",
   "metadata": {},
   "outputs": [
    {
     "name": "stdout",
     "output_type": "stream",
     "text": [
      "tensor([ 0,  0,  0,  0,  0,  0, 10,  9,  8,  7,  6,  5,  4,  3,  2,  1],\n",
      "       dtype=torch.int32) tensor([ 0,  0,  0,  0,  0,  0,  1,  2,  3,  4,  5,  6,  7,  8,  9, 10],\n",
      "       dtype=torch.int32)\n"
     ]
    }
   ],
   "source": [
    "print(fwd_cal[day,:,amo], bwd_cal[day,:,amo])"
   ]
  },
  {
   "cell_type": "code",
   "execution_count": 16,
   "id": "42c701cf",
   "metadata": {},
   "outputs": [
    {
     "name": "stdout",
     "output_type": "stream",
     "text": [
      "1 1 0\n",
      "1 1\n",
      "2 1 1\n",
      "2 0\n",
      "2 2 0\n",
      "1 2\n",
      "3 1 2\n",
      "3 0\n",
      "3 2 1\n",
      "1 1\n",
      "3 3 0\n",
      "1 3\n",
      "4 1 3\n",
      "4 0\n",
      "4 2 2\n",
      "2 0\n",
      "4 3 1\n",
      "1 1\n",
      "4 4 0\n",
      "1 4\n",
      "5 1 4\n",
      "5 0\n",
      "5 2 3\n",
      "2 0\n",
      "5 3 2\n",
      "1 1\n",
      "5 4 1\n",
      "1 1\n",
      "5 5 0\n",
      "1 5\n",
      "tensor([[[ 2., -1., -1., -1., -1.],\n",
      "         [-1., -1., -1., -1., -1.],\n",
      "         [-1., -1., -1., -1., -1.],\n",
      "         [-1., -1., -1., -1., -1.],\n",
      "         [-1., -1., -1., -1., -1.]],\n",
      "\n",
      "        [[ 3.,  2., -1., -1., -1.],\n",
      "         [ 3., -1., -1., -1., -1.],\n",
      "         [-1., -1., -1., -1., -1.],\n",
      "         [-1., -1., -1., -1., -1.],\n",
      "         [-1., -1., -1., -1., -1.]],\n",
      "\n",
      "        [[ 4.,  3.,  3., -1., -1.],\n",
      "         [ 2.,  2., -1., -1., -1.],\n",
      "         [ 4., -1., -1., -1., -1.],\n",
      "         [-1., -1., -1., -1., -1.],\n",
      "         [-1., -1., -1., -1., -1.]],\n",
      "\n",
      "        [[ 5.,  4.,  4.,  4., -1.],\n",
      "         [ 3.,  3.,  2., -1., -1.],\n",
      "         [ 3.,  2., -1., -1., -1.],\n",
      "         [ 5., -1., -1., -1., -1.],\n",
      "         [-1., -1., -1., -1., -1.]],\n",
      "\n",
      "        [[ 6.,  5.,  5.,  5.,  5.],\n",
      "         [ 3.,  3.,  2.,  2., -1.],\n",
      "         [ 2.,  2.,  2., -1., -1.],\n",
      "         [ 3.,  2., -1., -1., -1.],\n",
      "         [ 6., -1., -1., -1., -1.]]])\n"
     ]
    }
   ],
   "source": [
    "def get_lookup_table(max_slot):\n",
    "    lt = -torch.ones(max_slot, max_slot, max_slot)\n",
    "    for dcontainer in range(max_slot):\n",
    "        for dneed in range(max_slot):\n",
    "            if dneed <= dcontainer:\n",
    "                for idx in range(dcontainer - dneed + 1):\n",
    "                    before = int((dcontainer+1)/(dneed+1))\n",
    "                    after = int((dcontainer+1)/(dcontainer - dneed + idx + 1))\n",
    "                    \n",
    "                    lt[dcontainer,dneed,idx] = before + after\n",
    "                print(dcontainer+1,dneed+1,idx)\n",
    "                print(before,after)\n",
    "\n",
    "\n",
    "    return lt\n",
    "\n",
    "print(get_lookup_table(5))"
   ]
  },
  {
   "cell_type": "code",
   "execution_count": null,
   "id": "e42d7378",
   "metadata": {},
   "outputs": [],
   "source": [
    "def freeze_slot(hot_duration, cold_duration, calendar):\n",
    "    \n",
    "    return None"
   ]
  },
  {
   "cell_type": "code",
   "execution_count": null,
   "id": "1159a6aa",
   "metadata": {},
   "outputs": [],
   "source": []
  },
  {
   "cell_type": "code",
   "execution_count": null,
   "id": "f265f098",
   "metadata": {},
   "outputs": [],
   "source": []
  },
  {
   "cell_type": "code",
   "execution_count": null,
   "id": "780c11ba",
   "metadata": {},
   "outputs": [],
   "source": []
  }
 ],
 "metadata": {
  "interpreter": {
   "hash": "e1cb4ba5f411cfa4a68a7ea6c2f9ba3655e2604bd37447d058a856eda531fd15"
  },
  "kernelspec": {
   "display_name": "Python 3 (ipykernel)",
   "language": "python",
   "name": "python3"
  },
  "language_info": {
   "codemirror_mode": {
    "name": "ipython",
    "version": 3
   },
   "file_extension": ".py",
   "mimetype": "text/x-python",
   "name": "python",
   "nbconvert_exporter": "python",
   "pygments_lexer": "ipython3",
   "version": "3.9.7"
  }
 },
 "nbformat": 4,
 "nbformat_minor": 5
}
