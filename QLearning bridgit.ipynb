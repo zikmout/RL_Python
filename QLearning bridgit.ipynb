{
 "cells": [
  {
   "cell_type": "markdown",
   "id": "49a774ad",
   "metadata": {},
   "source": [
    "# QLearning Bridgit"
   ]
  },
  {
   "cell_type": "markdown",
   "id": "f92861fd",
   "metadata": {},
   "source": [
    "#### 29/11/2022"
   ]
  },
  {
   "cell_type": "code",
   "execution_count": 1,
   "id": "28da872b",
   "metadata": {},
   "outputs": [],
   "source": [
    "from itertools import groupby\n",
    "from prettytable import PrettyTable\n",
    "x = PrettyTable()\n",
    "\n",
    "def place_piece(size, day, hour):\n",
    "    for i in range(size):\n",
    "        if data[day][hour + i] == 1:\n",
    "            return False\n",
    "    for i in range(size):\n",
    "        print(i)\n",
    "        data[day][hour + i] = 1\n",
    "    pieces.remove(size)\n",
    "    return True\n",
    "\n",
    "def get_placed_pieces_score(initial_nb_of_pieces, pieces):\n",
    "    return (initial_nb_of_pieces - len(pieces)) / initial_nb_of_pieces\n",
    "\n",
    "def get_distribution_score(data, pieces):\n",
    "    total = 0\n",
    "    for i in range(len(data)):\n",
    "        tmp = \"\".join([str(_) for _ in data[i]])\n",
    "        groups = groupby(tmp)\n",
    "        result = [(label, sum(1 for _ in group)) for label, group in groups]\n",
    "        total += len(result)\n",
    "    return total\n",
    "\n",
    "def does_fit(data, length, day, hour):\n",
    "    for i in range(length):\n",
    "        try:\n",
    "            if data[day][hour + i] != 0:\n",
    "                return False\n",
    "        except:\n",
    "            return False\n",
    "    return True\n",
    "\n",
    "def get_placement_options_nb(data, length):\n",
    "    count = 0\n",
    "    for i in range(len(data)):\n",
    "        for j in range(len(data[i])):\n",
    "            if does_fit(data, length, i, j):\n",
    "                count += 1\n",
    "    return count"
   ]
  },
  {
   "cell_type": "code",
   "execution_count": 5,
   "id": "d46fd35f",
   "metadata": {},
   "outputs": [],
   "source": [
    "# data(day, hour)\n",
    "data = [\n",
    "        [0, 0, 0, 0, 1, 1, 0, 0, 0],\n",
    "        [0, 0, 0, 0, 1, 1, 0, 0, 0],\n",
    "        [0, 0, 0, 0, 1, 1, 0, 0, 0],\n",
    "        [0, 0, 0, 0, 1, 1, 0, 0, 0],\n",
    "    ]\n",
    "pieces = [2, 2, 2, 2, 2, 2, 2, 2, 3, 3, 3, 3]\n",
    "initial_nb_of_pieces = len(pieces)"
   ]
  },
  {
   "cell_type": "code",
   "execution_count": 4,
   "id": "c6cf7e17",
   "metadata": {},
   "outputs": [],
   "source": [
    "x.field_names = [\"8h\", \"9h\", \"10h\", \"11h\", \"12h\", \"13h\", \"14h\", \"15h\", \"16h\"]\n",
    "x.add_rows(\n",
    "    data\n",
    ")"
   ]
  },
  {
   "cell_type": "code",
   "execution_count": 7,
   "id": "c4915045",
   "metadata": {
    "scrolled": false
   },
   "outputs": [
    {
     "name": "stdout",
     "output_type": "stream",
     "text": [
      "+----+----+-----+-----+-----+-----+-----+-----+-----+\n",
      "| 8h | 9h | 10h | 11h | 12h | 13h | 14h | 15h | 16h |\n",
      "+----+----+-----+-----+-----+-----+-----+-----+-----+\n",
      "| 0  | 0  |  0  |  0  |  1  |  1  |  0  |  0  |  0  |\n",
      "| 0  | 0  |  0  |  0  |  1  |  1  |  0  |  0  |  0  |\n",
      "| 0  | 1  |  1  |  0  |  1  |  1  |  0  |  0  |  0  |\n",
      "| 0  | 0  |  0  |  0  |  1  |  1  |  0  |  0  |  0  |\n",
      "+----+----+-----+-----+-----+-----+-----+-----+-----+\n"
     ]
    }
   ],
   "source": [
    "print(x)"
   ]
  },
  {
   "cell_type": "code",
   "execution_count": 6,
   "id": "741f7e4c",
   "metadata": {},
   "outputs": [
    {
     "name": "stdout",
     "output_type": "stream",
     "text": [
      "0\n",
      "1\n"
     ]
    },
    {
     "data": {
      "text/plain": [
       "True"
      ]
     },
     "execution_count": 6,
     "metadata": {},
     "output_type": "execute_result"
    }
   ],
   "source": [
    "place_piece(2, 2, 1)"
   ]
  },
  {
   "cell_type": "code",
   "execution_count": null,
   "id": "1eae095f",
   "metadata": {},
   "outputs": [],
   "source": []
  },
  {
   "cell_type": "code",
   "execution_count": 8,
   "id": "91810203",
   "metadata": {},
   "outputs": [
    {
     "name": "stdout",
     "output_type": "stream",
     "text": [
      "0.08333333333333333\n"
     ]
    }
   ],
   "source": [
    "print(get_placed_pieces_score(initial_nb_of_pieces, pieces))"
   ]
  },
  {
   "cell_type": "code",
   "execution_count": 9,
   "id": "2277610f",
   "metadata": {},
   "outputs": [
    {
     "name": "stdout",
     "output_type": "stream",
     "text": [
      "14\n"
     ]
    }
   ],
   "source": [
    "print(get_distribution_score(data, pieces))"
   ]
  },
  {
   "cell_type": "code",
   "execution_count": 11,
   "id": "5bcf5c2c",
   "metadata": {},
   "outputs": [
    {
     "data": {
      "text/plain": [
       "17"
      ]
     },
     "execution_count": 11,
     "metadata": {},
     "output_type": "execute_result"
    }
   ],
   "source": [
    "get_placement_options_nb(data, 2)"
   ]
  },
  {
   "cell_type": "code",
   "execution_count": null,
   "id": "f054cb8b",
   "metadata": {},
   "outputs": [],
   "source": []
  },
  {
   "cell_type": "code",
   "execution_count": null,
   "id": "192d9f35",
   "metadata": {},
   "outputs": [],
   "source": []
  },
  {
   "cell_type": "code",
   "execution_count": null,
   "id": "1f1e7ea4",
   "metadata": {},
   "outputs": [],
   "source": []
  },
  {
   "cell_type": "code",
   "execution_count": null,
   "id": "e5036fb9",
   "metadata": {},
   "outputs": [],
   "source": []
  },
  {
   "cell_type": "code",
   "execution_count": null,
   "id": "86533259",
   "metadata": {},
   "outputs": [],
   "source": []
  },
  {
   "cell_type": "code",
   "execution_count": null,
   "id": "5abc71f5",
   "metadata": {},
   "outputs": [],
   "source": []
  },
  {
   "cell_type": "code",
   "execution_count": null,
   "id": "f7ea4546",
   "metadata": {},
   "outputs": [],
   "source": []
  },
  {
   "cell_type": "code",
   "execution_count": null,
   "id": "013d3f12",
   "metadata": {},
   "outputs": [],
   "source": []
  },
  {
   "cell_type": "code",
   "execution_count": null,
   "id": "a5a65b06",
   "metadata": {},
   "outputs": [],
   "source": []
  },
  {
   "cell_type": "code",
   "execution_count": null,
   "id": "15a63591",
   "metadata": {},
   "outputs": [],
   "source": []
  },
  {
   "cell_type": "code",
   "execution_count": null,
   "id": "661e19dc",
   "metadata": {},
   "outputs": [],
   "source": []
  },
  {
   "cell_type": "code",
   "execution_count": null,
   "id": "33c16531",
   "metadata": {},
   "outputs": [],
   "source": []
  }
 ],
 "metadata": {
  "kernelspec": {
   "display_name": "Python 3 (ipykernel)",
   "language": "python",
   "name": "python3"
  },
  "language_info": {
   "codemirror_mode": {
    "name": "ipython",
    "version": 3
   },
   "file_extension": ".py",
   "mimetype": "text/x-python",
   "name": "python",
   "nbconvert_exporter": "python",
   "pygments_lexer": "ipython3",
   "version": "3.9.7"
  }
 },
 "nbformat": 4,
 "nbformat_minor": 5
}
